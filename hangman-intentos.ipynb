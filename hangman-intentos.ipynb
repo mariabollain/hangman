{
 "cells": [
  {
   "cell_type": "code",
   "execution_count": 1,
   "id": "db49cbbe",
   "metadata": {},
   "outputs": [
    {
     "name": "stdout",
     "output_type": "stream",
     "text": [
      "H A N G M A N\n",
      "----\n"
     ]
    }
   ],
   "source": [
    "import random\n",
    "\n",
    "word_list = [\"python\", \"java\", \"swift\", \"javascript\"]\n",
    "# computer_word = random.choice(word_list)\n",
    "computer_word = \"java\"\n",
    "hidden_word = \"-\" * len(computer_word)\n",
    "\n",
    "print(\"H A N G M A N\")\n",
    "print(hidden_word)"
   ]
  },
  {
   "cell_type": "code",
   "execution_count": 29,
   "id": "cfbc3820",
   "metadata": {},
   "outputs": [
    {
     "data": {
      "text/plain": [
       "True"
      ]
     },
     "execution_count": 29,
     "metadata": {},
     "output_type": "execute_result"
    }
   ],
   "source": [
    "letter = \"a\"\n",
    "letter in computer_word"
   ]
  },
  {
   "cell_type": "code",
   "execution_count": 30,
   "id": "eff09189",
   "metadata": {},
   "outputs": [
    {
     "data": {
      "text/plain": [
       "'-a-a'"
      ]
     },
     "execution_count": 30,
     "metadata": {},
     "output_type": "execute_result"
    }
   ],
   "source": [
    "computer_word_list = list(computer_word)\n",
    "hidden_word_list = computer_word_list.copy()\n",
    "\n",
    "i = 0 \n",
    "while i < len(computer_word_list):\n",
    "    if computer_word_list[i] != letter:\n",
    "        hidden_word_list[i] = \"-\"\n",
    "    i += 1\n",
    "    \n",
    "hidden_word = \"\".join(hidden_word_list)\n",
    "hidden_word"
   ]
  },
  {
   "cell_type": "code",
   "execution_count": null,
   "id": "b8ab5048",
   "metadata": {},
   "outputs": [],
   "source": []
  },
  {
   "cell_type": "code",
   "execution_count": 18,
   "id": "35115484",
   "metadata": {},
   "outputs": [
    {
     "data": {
      "text/plain": [
       "['j', 'a', 'v', 'a']"
      ]
     },
     "execution_count": 18,
     "metadata": {},
     "output_type": "execute_result"
    }
   ],
   "source": [
    "computer_word_list"
   ]
  },
  {
   "cell_type": "code",
   "execution_count": 31,
   "id": "7a61692e",
   "metadata": {},
   "outputs": [
    {
     "data": {
      "text/plain": [
       "0"
      ]
     },
     "execution_count": 31,
     "metadata": {},
     "output_type": "execute_result"
    }
   ],
   "source": [
    "letter = \"j\"\n",
    "\n",
    "word_list.index(letter)"
   ]
  },
  {
   "cell_type": "code",
   "execution_count": 32,
   "id": "4259d4de",
   "metadata": {},
   "outputs": [
    {
     "data": {
      "text/plain": [
       "'ja-a'"
      ]
     },
     "execution_count": 32,
     "metadata": {},
     "output_type": "execute_result"
    }
   ],
   "source": [
    "hidden_word = hidden_word.replace(hidden_word[0], letter, 1)\n",
    "hidden_word"
   ]
  },
  {
   "cell_type": "code",
   "execution_count": null,
   "id": "c487554f",
   "metadata": {},
   "outputs": [],
   "source": [
    "letter = \"j\"\n",
    "\n",
    "if letter in computer_word:\n",
    "    \n",
    "    "
   ]
  },
  {
   "cell_type": "code",
   "execution_count": 5,
   "id": "e24a1c56",
   "metadata": {},
   "outputs": [],
   "source": [
    "# i = 0\n",
    "# j = 0\n",
    "\n",
    "# while i <= 8:\n",
    "#     letter = input(\"Input a letter:\")\n",
    "#     if letter in computer_word:\n",
    "#         while j < len(computer_word_list):\n",
    "            \n",
    "#             if computer_word_list[i] != letter:\n",
    "#                 computer_word_list[i] = \"-\"\n",
    "#             i += 1\n",
    "#         hidden_word = \"\".join(computer_word_list)\n",
    "#         hidden_word\n",
    "    "
   ]
  },
  {
   "cell_type": "code",
   "execution_count": 38,
   "id": "f087b2f5",
   "metadata": {},
   "outputs": [
    {
     "data": {
      "text/plain": [
       "'----'"
      ]
     },
     "execution_count": 38,
     "metadata": {},
     "output_type": "execute_result"
    }
   ],
   "source": [
    "computer_word = \"java\"\n",
    "hidden_word = \"-\" * len(computer_word)\n",
    "hidden_word"
   ]
  },
  {
   "cell_type": "code",
   "execution_count": null,
   "id": "b2243005",
   "metadata": {},
   "outputs": [],
   "source": []
  },
  {
   "cell_type": "code",
   "execution_count": 63,
   "id": "b5e3630b",
   "metadata": {},
   "outputs": [
    {
     "name": "stdout",
     "output_type": "stream",
     "text": [
      "Input a letter:b\n",
      "----\n",
      "Input a letter:f\n",
      "----\n",
      "Input a letter:j\n",
      "j---\n",
      "Input a letter:a\n",
      "ja-a\n",
      "Input a letter:v\n",
      "java\n",
      "Input a letter:y\n",
      "java\n",
      "Input a letter:5\n",
      "java\n",
      "Input a letter:7\n",
      "java\n"
     ]
    }
   ],
   "source": [
    "i = 0\n",
    "computer_word = \"java\"\n",
    "hidden_word = \"-\" * len(computer_word)\n",
    "computer_word_list = list(computer_word)\n",
    "hidden_word_list = list(hidden_word)\n",
    "\n",
    "\n",
    "while i < 8:\n",
    "    j = 0\n",
    "    k = 0\n",
    "    ind = 0\n",
    "    letter = input(\"Input a letter:\")\n",
    "    if letter in computer_word:\n",
    "        while j <= computer_word_list.count(letter)-1:\n",
    "            ind = computer_word_list.index(letter, ind+k)\n",
    "            hidden_word_list[ind] = letter\n",
    "            hidden_word = \"\".join(hidden_word_list)\n",
    "            j += 1\n",
    "            k = 1\n",
    "    print(hidden_word)\n",
    "    i += 1\n",
    "print(\"Thanks for playing!\")\n",
    "        \n",
    "        "
   ]
  },
  {
   "cell_type": "code",
   "execution_count": 64,
   "id": "895c6d3c",
   "metadata": {},
   "outputs": [
    {
     "name": "stdout",
     "output_type": "stream",
     "text": [
      "H A N G M A N\n",
      "Input a letter:a\n",
      "------\n",
      "Input a letter:s\n",
      "------\n",
      "Input a letter:p\n",
      "p-----\n",
      "Input a letter:y\n",
      "py----\n",
      "Input a letter:t\n",
      "pyt---\n",
      "Input a letter:h\n",
      "pyth--\n",
      "Input a letter:o\n",
      "pytho-\n",
      "Input a letter:n\n",
      "python\n",
      "Thanks for playing!\n"
     ]
    }
   ],
   "source": [
    "import random\n",
    "word_list = [\"python\", \"java\", \"swift\", \"javascript\"]\n",
    "computer_word = random.choice(word_list)\n",
    "\n",
    "print(\"H A N G M A N\")\n",
    "\n",
    "i = 0\n",
    "hidden_word = \"-\" * len(computer_word)\n",
    "computer_word_list = list(computer_word)\n",
    "hidden_word_list = list(hidden_word)\n",
    "\n",
    "while i < 8:\n",
    "    j = 0\n",
    "    k = 0\n",
    "    ind = 0\n",
    "    letter = input(\"Input a letter:\")\n",
    "    if letter in computer_word:\n",
    "        while j <= computer_word_list.count(letter)-1:\n",
    "            ind = computer_word_list.index(letter, ind+k)\n",
    "            hidden_word_list[ind] = letter\n",
    "            hidden_word = \"\".join(hidden_word_list)\n",
    "            j += 1\n",
    "            k = 1\n",
    "    print(hidden_word)\n",
    "    i += 1\n",
    "print(\"Thanks for playing!\")"
   ]
  },
  {
   "cell_type": "code",
   "execution_count": 66,
   "id": "76d01ac1",
   "metadata": {},
   "outputs": [
    {
     "name": "stdout",
     "output_type": "stream",
     "text": [
      "H A N G M A N\n",
      "\n",
      "-----\n",
      "Input a letter:f\n",
      "\n",
      "---f-\n",
      "Input a letter:a\n",
      "That letter doesn't appear in the word.\n",
      "\n",
      "---f-\n",
      "Input a letter:r\n",
      "That letter doesn't appear in the word.\n",
      "\n",
      "---f-\n",
      "Input a letter:s\n",
      "\n",
      "s--f-\n",
      "Input a letter:s\n",
      "No improvements\n",
      "\n",
      "s--f-\n",
      "Input a letter:y\n",
      "That letter doesn't appear in the word.\n",
      "\n",
      "s--f-\n",
      "Input a letter:w\n",
      "\n",
      "sw-f-\n",
      "Input a letter:i\n",
      "\n",
      "swif-\n",
      "Input a letter:t\n",
      "You guessed the word!\n",
      "You survived!\n",
      "swift\n",
      "You guessed the word!\n",
      "You survived!\n"
     ]
    }
   ],
   "source": [
    "import random\n",
    "choices = [\"python\", \"java\", \"swift\", \"javascript\"]\n",
    "word = random.choice(choices)\n",
    "word_copy = word\n",
    "print(\"H A N G M A N\")\n",
    "print()\n",
    "\n",
    "i = 0\n",
    "hidden_word = \"-\" * len(word)\n",
    "word_list = list(word)\n",
    "hidden_word_list = list(hidden_word)\n",
    "\n",
    "while i < 8:\n",
    "    j = 0\n",
    "    k = 0\n",
    "    ind = 0\n",
    "    print(hidden_word)\n",
    "    letter = input(\"Input a letter:\")\n",
    "    \n",
    "    if letter in word:\n",
    "        if letter in word_copy:\n",
    "                while j <= word_list.count(letter)-1:\n",
    "                    ind = word_list.index(letter, ind+k)\n",
    "                    hidden_word_list[ind] = letter\n",
    "                    hidden_word = \"\".join(hidden_word_list)\n",
    "                    word_copy = word_copy.replace(letter, \"-\")\n",
    "                    j += 1\n",
    "                    k = 1\n",
    "        else:\n",
    "                print(\"No improvements\")\n",
    "                i += 1\n",
    "    else: \n",
    "        print(\"That letter doesn't appear in the word.\")\n",
    "        i += 1\n",
    "        \n",
    "    if hidden_word == word:\n",
    "        print(\"You guessed the word!\")\n",
    "        print(\"You survived!\")\n",
    "        break\n",
    "    print()\n",
    "\n",
    "if hidden_word == word:\n",
    "    print(hidden_word)\n",
    "    print(\"You guessed the word!\")\n",
    "    print(\"You survived!\")\n",
    "else:\n",
    "    print(\"You lost!\")"
   ]
  },
  {
   "cell_type": "code",
   "execution_count": 68,
   "id": "002ddd5c",
   "metadata": {},
   "outputs": [
    {
     "name": "stdout",
     "output_type": "stream",
     "text": [
      "input a lettera\n",
      "yes\n"
     ]
    }
   ],
   "source": [
    "letter = input(\"input a letter\")\n",
    "if letter.isalpha():\n",
    "    print(\"yes\")\n",
    "else: \n",
    "    print(\"no\")"
   ]
  },
  {
   "cell_type": "code",
   "execution_count": 72,
   "id": "657623e7",
   "metadata": {},
   "outputs": [
    {
     "name": "stdout",
     "output_type": "stream",
     "text": [
      "H A N G M A N\n",
      "\n",
      "-----\n",
      "Input a letter: y\n",
      "That letter doesn't appear in the word.\n",
      "\n",
      "-----\n",
      "Input a letter: y\n",
      "That letter doesn't appear in the word.\n",
      "\n",
      "-----\n",
      "Input a letter: y\n",
      "That letter doesn't appear in the word.\n",
      "\n",
      "-----\n",
      "Input a letter: y\n",
      "That letter doesn't appear in the word.\n",
      "\n",
      "-----\n",
      "Input a letter: y\n",
      "That letter doesn't appear in the word.\n",
      "\n",
      "-----\n",
      "Input a letter: y\n",
      "That letter doesn't appear in the word.\n",
      "\n",
      "-----\n",
      "Input a letter: y\n",
      "That letter doesn't appear in the word.\n",
      "\n",
      "-----\n",
      "Input a letter: y\n",
      "That letter doesn't appear in the word.\n",
      "\n",
      "You lost!\n"
     ]
    }
   ],
   "source": [
    "import random\n",
    "choices = [\"python\", \"java\", \"swift\", \"javascript\"]\n",
    "word = random.choice(choices)\n",
    "word_copy = word\n",
    "print(\"H A N G M A N\")\n",
    "print()\n",
    "\n",
    "i = 0\n",
    "hidden_word = \"-\" * len(word)\n",
    "word_list = list(word)\n",
    "hidden_word_list = list(hidden_word)\n",
    "\n",
    "while i < 8:\n",
    "    j = 0\n",
    "    k = 0\n",
    "    ind = 0\n",
    "    print(hidden_word)\n",
    "    letter = input(\"Input a letter: \")\n",
    "\n",
    "    if len(letter) == 1:\n",
    "        if letter.isalpha() and letter.islower():\n",
    "            if letter in word:\n",
    "                if letter in word_copy:\n",
    "                        while j <= word_list.count(letter)-1:\n",
    "                            ind = word_list.index(letter, ind+k)\n",
    "                            hidden_word_list[ind] = letter\n",
    "                            hidden_word = \"\".join(hidden_word_list)\n",
    "                            word_copy = word_copy.replace(letter, \"-\")\n",
    "                            j += 1\n",
    "                            k = 1\n",
    "                else:\n",
    "                        print(\"You've already guessed this letter.\")\n",
    "            else: \n",
    "                print(\"That letter doesn't appear in the word.\")\n",
    "                i += 1\n",
    "        else:\n",
    "            print(\"Please, enter a lowercase letter from the English alphabet.\")\n",
    "    else:\n",
    "        print(\"Please, input a single letter.\")\n",
    "\n",
    "    print()        \n",
    "    if hidden_word == word:\n",
    "        break\n",
    "\n",
    "if hidden_word == word:\n",
    "    print(f\"You guessed the word {hidden_word}!\")\n",
    "    print(\"You survived!\")\n",
    "else:\n",
    "    print(\"You lost!\")"
   ]
  },
  {
   "cell_type": "code",
   "execution_count": 74,
   "id": "c3fe7722",
   "metadata": {},
   "outputs": [
    {
     "name": "stdout",
     "output_type": "stream",
     "text": [
      "H A N G M A N\n",
      "\n",
      "-----\n",
      "Input a letter: a\n",
      "That letter doesn't appear in the word.\n",
      "\n",
      "-----\n",
      "Input a letter: 12\n",
      "Please, input a single letter.\n",
      "\n",
      "-----\n",
      "Input a letter: A\n",
      "Please, enter a lowercase letter from the English alphabet.\n",
      "\n",
      "-----\n",
      "Input a letter: AA\n",
      "Please, input a single letter.\n",
      "\n",
      "-----\n",
      "Input a letter: s\n",
      "\n",
      "s----\n",
      "Input a letter: i\n",
      "\n",
      "s-i--\n",
      "Input a letter: y\n",
      "That letter doesn't appear in the word.\n",
      "\n",
      "s-i--\n",
      "Input a letter: f\n",
      "\n",
      "s-if-\n",
      "Input a letter: t\n",
      "\n",
      "s-ift\n",
      "Input a letter: w\n",
      "\n",
      "You guessed the word swift!\n",
      "You survived!\n"
     ]
    }
   ],
   "source": [
    "# Improved solution with for loop and clearer checks for letters\n",
    "\n",
    "import random\n",
    "choices = [\"python\", \"java\", \"swift\", \"javascript\"]\n",
    "word = random.choice(choices)\n",
    "word_copy = word\n",
    "print(\"H A N G M A N\")\n",
    "print()\n",
    "\n",
    "i = 0\n",
    "hidden_word = \"-\" * len(word)\n",
    "word_list = list(word)\n",
    "hidden_word_list = list(hidden_word)\n",
    "\n",
    "\n",
    "while i < 8:\n",
    "    print(hidden_word)\n",
    "    letter = input(\"Input a letter: \")\n",
    "\n",
    "    if len(letter) != 1:\n",
    "        print(\"Please, input a single letter.\")\n",
    "    elif not (letter.isalpha() and letter.islower()):\n",
    "        print(\"Please, enter a lowercase letter from the English alphabet.\")\n",
    "    else:\n",
    "        if letter in word:\n",
    "            if letter in word_copy:\n",
    "                for ind in range(len(word)):\n",
    "                    if word_list[ind] == letter:\n",
    "                        hidden_word_list[ind] = letter\n",
    "                        hidden_word = \"\".join(hidden_word_list)\n",
    "                        word_copy = word_copy.replace(letter, \"-\")\n",
    "            else:\n",
    "                print(\"You've already guessed this letter.\")\n",
    "        else: \n",
    "            print(\"That letter doesn't appear in the word.\")\n",
    "            i += 1\n",
    "    print()        \n",
    "    if hidden_word == word:\n",
    "        break\n",
    "\n",
    "if hidden_word == word:\n",
    "    print(f\"You guessed the word {hidden_word}!\\nYou survived!\")\n",
    "else:\n",
    "    print(\"You lost!\")"
   ]
  },
  {
   "cell_type": "code",
   "execution_count": 75,
   "id": "56d2dce6",
   "metadata": {},
   "outputs": [
    {
     "name": "stdout",
     "output_type": "stream",
     "text": [
      "H A N G M A N\n",
      "\n",
      "-----\n"
     ]
    },
    {
     "ename": "KeyboardInterrupt",
     "evalue": "Interrupted by user",
     "output_type": "error",
     "traceback": [
      "\u001b[1;31m---------------------------------------------------------------------------\u001b[0m",
      "\u001b[1;31mKeyboardInterrupt\u001b[0m                         Traceback (most recent call last)",
      "\u001b[1;32m~\\AppData\\Local\\Temp\\ipykernel_3048\\2389688527.py\u001b[0m in \u001b[0;36m<module>\u001b[1;34m\u001b[0m\n\u001b[0;32m     16\u001b[0m \u001b[1;32mwhile\u001b[0m \u001b[0mi\u001b[0m \u001b[1;33m<\u001b[0m \u001b[1;36m8\u001b[0m\u001b[1;33m:\u001b[0m\u001b[1;33m\u001b[0m\u001b[1;33m\u001b[0m\u001b[0m\n\u001b[0;32m     17\u001b[0m     \u001b[0mprint\u001b[0m\u001b[1;33m(\u001b[0m\u001b[0mhidden_word\u001b[0m\u001b[1;33m)\u001b[0m\u001b[1;33m\u001b[0m\u001b[1;33m\u001b[0m\u001b[0m\n\u001b[1;32m---> 18\u001b[1;33m     \u001b[0mletter\u001b[0m \u001b[1;33m=\u001b[0m \u001b[0minput\u001b[0m\u001b[1;33m(\u001b[0m\u001b[1;34m\"Input a letter: \"\u001b[0m\u001b[1;33m)\u001b[0m\u001b[1;33m\u001b[0m\u001b[1;33m\u001b[0m\u001b[0m\n\u001b[0m\u001b[0;32m     19\u001b[0m     \u001b[0mused_letters\u001b[0m\u001b[1;33m.\u001b[0m\u001b[0mappend\u001b[0m\u001b[1;33m(\u001b[0m\u001b[0mletter\u001b[0m\u001b[1;33m)\u001b[0m\u001b[1;33m\u001b[0m\u001b[1;33m\u001b[0m\u001b[0m\n\u001b[0;32m     20\u001b[0m \u001b[1;33m\u001b[0m\u001b[0m\n",
      "\u001b[1;32m~\\anaconda3\\lib\\site-packages\\ipykernel\\kernelbase.py\u001b[0m in \u001b[0;36mraw_input\u001b[1;34m(self, prompt)\u001b[0m\n\u001b[0;32m   1175\u001b[0m                 \u001b[1;34m\"raw_input was called, but this frontend does not support input requests.\"\u001b[0m\u001b[1;33m\u001b[0m\u001b[1;33m\u001b[0m\u001b[0m\n\u001b[0;32m   1176\u001b[0m             )\n\u001b[1;32m-> 1177\u001b[1;33m         return self._input_request(\n\u001b[0m\u001b[0;32m   1178\u001b[0m             \u001b[0mstr\u001b[0m\u001b[1;33m(\u001b[0m\u001b[0mprompt\u001b[0m\u001b[1;33m)\u001b[0m\u001b[1;33m,\u001b[0m\u001b[1;33m\u001b[0m\u001b[1;33m\u001b[0m\u001b[0m\n\u001b[0;32m   1179\u001b[0m             \u001b[0mself\u001b[0m\u001b[1;33m.\u001b[0m\u001b[0m_parent_ident\u001b[0m\u001b[1;33m[\u001b[0m\u001b[1;34m\"shell\"\u001b[0m\u001b[1;33m]\u001b[0m\u001b[1;33m,\u001b[0m\u001b[1;33m\u001b[0m\u001b[1;33m\u001b[0m\u001b[0m\n",
      "\u001b[1;32m~\\anaconda3\\lib\\site-packages\\ipykernel\\kernelbase.py\u001b[0m in \u001b[0;36m_input_request\u001b[1;34m(self, prompt, ident, parent, password)\u001b[0m\n\u001b[0;32m   1217\u001b[0m             \u001b[1;32mexcept\u001b[0m \u001b[0mKeyboardInterrupt\u001b[0m\u001b[1;33m:\u001b[0m\u001b[1;33m\u001b[0m\u001b[1;33m\u001b[0m\u001b[0m\n\u001b[0;32m   1218\u001b[0m                 \u001b[1;31m# re-raise KeyboardInterrupt, to truncate traceback\u001b[0m\u001b[1;33m\u001b[0m\u001b[1;33m\u001b[0m\u001b[0m\n\u001b[1;32m-> 1219\u001b[1;33m                 \u001b[1;32mraise\u001b[0m \u001b[0mKeyboardInterrupt\u001b[0m\u001b[1;33m(\u001b[0m\u001b[1;34m\"Interrupted by user\"\u001b[0m\u001b[1;33m)\u001b[0m \u001b[1;32mfrom\u001b[0m \u001b[1;32mNone\u001b[0m\u001b[1;33m\u001b[0m\u001b[1;33m\u001b[0m\u001b[0m\n\u001b[0m\u001b[0;32m   1220\u001b[0m             \u001b[1;32mexcept\u001b[0m \u001b[0mException\u001b[0m\u001b[1;33m:\u001b[0m\u001b[1;33m\u001b[0m\u001b[1;33m\u001b[0m\u001b[0m\n\u001b[0;32m   1221\u001b[0m                 \u001b[0mself\u001b[0m\u001b[1;33m.\u001b[0m\u001b[0mlog\u001b[0m\u001b[1;33m.\u001b[0m\u001b[0mwarning\u001b[0m\u001b[1;33m(\u001b[0m\u001b[1;34m\"Invalid Message:\"\u001b[0m\u001b[1;33m,\u001b[0m \u001b[0mexc_info\u001b[0m\u001b[1;33m=\u001b[0m\u001b[1;32mTrue\u001b[0m\u001b[1;33m)\u001b[0m\u001b[1;33m\u001b[0m\u001b[1;33m\u001b[0m\u001b[0m\n",
      "\u001b[1;31mKeyboardInterrupt\u001b[0m: Interrupted by user"
     ]
    }
   ],
   "source": [
    "# New solution improves checking if letter has been used\n",
    "\n",
    "import random\n",
    "choices = [\"python\", \"java\", \"swift\", \"javascript\"]\n",
    "word = random.choice(choices)\n",
    "print(\"H A N G M A N\")\n",
    "print()\n",
    "\n",
    "i = 0\n",
    "hidden_word = \"-\" * len(word)\n",
    "word_list = list(word)\n",
    "hidden_word_list = list(hidden_word)\n",
    "used_letters = []\n",
    "\n",
    "while i < 8:\n",
    "    print(hidden_word)\n",
    "    letter = input(\"Input a letter: \")\n",
    "    \n",
    "    if len(letter) != 1:\n",
    "        print(\"Please, input a single letter.\")\n",
    "    elif not (letter.isalpha() and letter.islower()):\n",
    "        print(\"Please, enter a lowercase letter from the English alphabet.\")\n",
    "    elif letter in used_letters:\n",
    "        print(\"You've already guessed this letter.\")\n",
    "    else:\n",
    "        if letter in word:\n",
    "            for ind in range(len(word)):\n",
    "                if word_list[ind] == letter:\n",
    "                    hidden_word_list[ind] = letter\n",
    "                    hidden_word = \"\".join(hidden_word_list)\n",
    "        else: \n",
    "            print(\"That letter doesn't appear in the word.\")\n",
    "            i += 1\n",
    "    used_letters.append(letter)\n",
    "    print()        \n",
    "    if hidden_word == word:\n",
    "        break\n",
    "\n",
    "if hidden_word == word:\n",
    "    print(f\"You guessed the word {hidden_word}!\\nYou survived!\")\n",
    "else:\n",
    "    print(\"You lost!\")"
   ]
  },
  {
   "cell_type": "code",
   "execution_count": 83,
   "id": "0da289ec",
   "metadata": {},
   "outputs": [
    {
     "name": "stdout",
     "output_type": "stream",
     "text": [
      "H A N G M A N\n",
      "Type \"play\" to play the game, \"results\" to show the scoreboard, and \"exit\" to quitplay\n",
      "------\n",
      "Input a letter: j\n",
      "That letter doesn't appear in the word.\n",
      "\n",
      "------\n",
      "Input a letter: p\n",
      "\n",
      "p-----\n",
      "Input a letter: y\n",
      "\n",
      "py----\n",
      "Input a letter: t\n",
      "\n",
      "pyt---\n",
      "Input a letter: h\n",
      "\n",
      "pyth--\n",
      "Input a letter: o\n",
      "\n",
      "pytho-\n",
      "Input a letter: n\n",
      "\n",
      "You guessed the word python!\n",
      "You survived!\n",
      "1\n",
      "0\n",
      "Type \"play\" to play the game, \"results\" to show the scoreboard, and \"exit\" to quitresults\n",
      "You won: 1 times.\n",
      "You lost: 0 times.\n"
     ]
    }
   ],
   "source": [
    "import random\n",
    "choices = [\"python\", \"java\", \"swift\", \"javascript\"]\n",
    "word = random.choice(choices)\n",
    "print(\"H A N G M A N\")\n",
    "user_choice = input('Type \"play\" to play the game, \"results\" to show the scoreboard, and \"exit\" to quit')\n",
    "\n",
    "wins = 0\n",
    "losses = 0 \n",
    "\n",
    "def play_game():\n",
    "    global wins\n",
    "    global losses\n",
    "    i = 0\n",
    "    hidden_word = \"-\" * len(word)\n",
    "    word_list = list(word)\n",
    "    hidden_word_list = list(hidden_word)\n",
    "    used_letters = []\n",
    "\n",
    "    while i < 8:\n",
    "        print(hidden_word)\n",
    "        letter = input(\"Input a letter: \")\n",
    "\n",
    "        if len(letter) != 1:\n",
    "            print(\"Please, input a single letter.\")\n",
    "        elif not (letter.isalpha() and letter.islower()):\n",
    "            print(\"Please, enter a lowercase letter from the English alphabet.\")\n",
    "        elif letter in used_letters:\n",
    "            print(\"You've already guessed this letter.\")\n",
    "        else:\n",
    "            if letter in word:\n",
    "                for ind in range(len(word)):\n",
    "                    if word_list[ind] == letter:\n",
    "                        hidden_word_list[ind] = letter\n",
    "                        hidden_word = \"\".join(hidden_word_list)\n",
    "            else: \n",
    "                print(\"That letter doesn't appear in the word.\")\n",
    "                i += 1\n",
    "        used_letters.append(letter)\n",
    "        print()        \n",
    "        if hidden_word == word:\n",
    "            break\n",
    "\n",
    "    if hidden_word == word:\n",
    "        print(f\"You guessed the word {hidden_word}!\\nYou survived!\")\n",
    "        wins += 1\n",
    "    else:\n",
    "        print(\"You lost!\")\n",
    "        losses += 1\n",
    "    print(wins)\n",
    "    print(losses)\n",
    "    user_choice = input('Type \"play\" to play the game, \"results\" to show the scoreboard, and \"exit\" to quit:' )\n",
    "    \n",
    "    if user_choice == \"play\":\n",
    "        play_game()\n",
    "    elif user_choice == \"results\":\n",
    "        print(f\"You won: {wins} times.\")\n",
    "        print(f\"You lost: {losses} times.\")\n",
    "        play_game()\n",
    "\n",
    "\n",
    "if user_choice == \"play\":\n",
    "    play_game()\n",
    "elif user_choice == \"results\":\n",
    "    print(f\"You won: {wins} times.\")\n",
    "    print(f\"You lost: {losses} times.\")\n",
    "    play_game()"
   ]
  },
  {
   "cell_type": "code",
   "execution_count": 87,
   "id": "496ffa64",
   "metadata": {},
   "outputs": [
    {
     "name": "stdout",
     "output_type": "stream",
     "text": [
      "H A N G M A N\n",
      "Type \"play\" to play the game, \"results\" to show the scoreboard, and \"exit\" to quitplay\n",
      "-----\n",
      "Input a letter: s\n",
      "\n",
      "s----\n",
      "Input a letter: w\n",
      "\n",
      "sw---\n",
      "Input a letter: i\n",
      "\n",
      "swi--\n",
      "Input a letter: f\n",
      "\n",
      "swif-\n",
      "Input a letter: t\n",
      "\n",
      "You guessed the word swift!\n",
      "You survived!\n",
      "Type \"play\" to play the game, \"results\" to show the scoreboard, and \"exit\" to quitresults\n",
      "You won: 1 times.\n",
      "You lost: 0 times.\n",
      "Type \"play\" to play the game, \"results\" to show the scoreboard, and \"exit\" to quitexit\n"
     ]
    }
   ],
   "source": [
    "import random\n",
    "choices = [\"python\", \"java\", \"swift\", \"javascript\"]\n",
    "print(\"H A N G M A N\")\n",
    "\n",
    "i = 0\n",
    "wins = 0\n",
    "losses = 0\n",
    "\n",
    "while True:\n",
    "    user_choice = input('Type \"play\" to play the game, \"results\" to show the scoreboard, and \"exit\" to quit')\n",
    "    if user_choice == \"exit\":\n",
    "        break\n",
    "    elif user_choice == \"results\":\n",
    "        print(f\"You won: {wins} times.\")\n",
    "        print(f\"You lost: {losses} times.\")\n",
    "    elif user_choice == \"play\":\n",
    "        word = random.choice(choices)\n",
    "        hidden_word = \"-\" * len(word)\n",
    "        word_list = list(word)\n",
    "        hidden_word_list = list(hidden_word)\n",
    "        used_letters = []\n",
    "        \n",
    "        while i < 8:\n",
    "            print(hidden_word)\n",
    "            letter = input(\"Input a letter: \")\n",
    "\n",
    "            if len(letter) != 1:\n",
    "                print(\"Please, input a single letter.\")\n",
    "            elif not (letter.isalpha() and letter.islower()):\n",
    "                print(\"Please, enter a lowercase letter from the English alphabet.\")\n",
    "            elif letter in used_letters:\n",
    "                print(\"You've already guessed this letter.\")\n",
    "            else:\n",
    "                if letter in word:\n",
    "                    for ind in range(len(word)):\n",
    "                        if word_list[ind] == letter:\n",
    "                            hidden_word_list[ind] = letter\n",
    "                            hidden_word = \"\".join(hidden_word_list)\n",
    "                else: \n",
    "                    print(\"That letter doesn't appear in the word.\")\n",
    "                    i += 1\n",
    "            used_letters.append(letter)\n",
    "            print()        \n",
    "            if hidden_word == word:\n",
    "                break\n",
    "\n",
    "        if hidden_word == word:\n",
    "            print(f\"You guessed the word {hidden_word}!\\nYou survived!\")\n",
    "            wins += 1\n",
    "        else:\n",
    "            print(\"You lost!\")\n",
    "            losses += 1\n",
    "    else:\n",
    "        user_choice = input('Type \"play\" to play the game, \"results\" to show the scoreboard, and \"exit\" to quit')"
   ]
  },
  {
   "cell_type": "code",
   "execution_count": null,
   "id": "157abff5",
   "metadata": {},
   "outputs": [],
   "source": []
  }
 ],
 "metadata": {
  "kernelspec": {
   "display_name": "Python 3 (ipykernel)",
   "language": "python",
   "name": "python3"
  },
  "language_info": {
   "codemirror_mode": {
    "name": "ipython",
    "version": 3
   },
   "file_extension": ".py",
   "mimetype": "text/x-python",
   "name": "python",
   "nbconvert_exporter": "python",
   "pygments_lexer": "ipython3",
   "version": "3.9.13"
  }
 },
 "nbformat": 4,
 "nbformat_minor": 5
}
